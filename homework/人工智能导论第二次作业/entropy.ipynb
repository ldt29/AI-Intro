{
 "cells": [
  {
   "cell_type": "code",
   "execution_count": 1,
   "metadata": {},
   "outputs": [],
   "source": [
    "import math\n",
    "\n",
    "def plogp(p):\n",
    "    if p < 1e-5:\n",
    "        return 0\n",
    "    else:\n",
    "        return round(p * math.log2(p), 3)\n",
    "\n",
    "def H(p1, p2):\n",
    "    total = p1 + p2\n",
    "    entropy = -(plogp(p1 / total) + plogp(p2 / total))\n",
    "    return round(entropy, 3)\n",
    "\n",
    "def avg(items, ps=None):\n",
    "    if ps is None:\n",
    "        return sum(items) / len(items)\n",
    "    return round(sum(item * p for item, p in zip(items, ps)) / sum(ps), 3)"
   ]
  },
  {
   "attachments": {},
   "cell_type": "markdown",
   "metadata": {},
   "source": [
    "色泽："
   ]
  },
  {
   "cell_type": "code",
   "execution_count": 2,
   "metadata": {},
   "outputs": [
    {
     "data": {
      "text/plain": [
       "(0.998, 1.0, 0.918, 0.722)"
      ]
     },
     "execution_count": 2,
     "metadata": {},
     "output_type": "execute_result"
    }
   ],
   "source": [
    "H(8, 9), H(3, 3), H(4, 2), H(1, 4)"
   ]
  },
  {
   "cell_type": "code",
   "execution_count": 3,
   "metadata": {},
   "outputs": [
    {
     "name": "stdout",
     "output_type": "stream",
     "text": [
      "0.109\n"
     ]
    }
   ],
   "source": [
    "IG = H(8, 9) - avg((H(3, 3), H(4, 2), H(1, 4)), (6, 6, 5))\n",
    "print(\"%.3f\" % IG)"
   ]
  },
  {
   "attachments": {},
   "cell_type": "markdown",
   "metadata": {},
   "source": [
    "batch process:"
   ]
  },
  {
   "cell_type": "code",
   "execution_count": 15,
   "metadata": {},
   "outputs": [
    {
     "name": "stdout",
     "output_type": "stream",
     "text": [
      "feature = 0:\n",
      "[0.]\n",
      "[1.]\n",
      "[]\n",
      "[]\n",
      "[0.]\n",
      "[]\n",
      "0.918 -0.0 1.0 0\n",
      "0.251\n",
      "feature = 1:\n",
      "[]\n",
      "[0. 1.]\n",
      "[]\n",
      "[]\n",
      "[0.]\n",
      "[]\n",
      "0.918 0 0.918 0\n",
      "0.000\n",
      "feature = 2:\n",
      "[0. 1.]\n",
      "[]\n",
      "[]\n",
      "[0.]\n",
      "[]\n",
      "[]\n",
      "0.918 0.918 0 0\n",
      "0.000\n",
      "feature = 3:\n",
      "[0. 1.]\n",
      "[]\n",
      "[]\n",
      "[0.]\n",
      "[]\n",
      "[]\n",
      "0.918 0.918 0 0\n",
      "0.000\n",
      "feature = 4:\n",
      "[]\n",
      "[0. 1.]\n",
      "[]\n",
      "[]\n",
      "[0.]\n",
      "[]\n",
      "0.918 0 0.918 0\n",
      "0.000\n",
      "feature = 5:\n",
      "[1.]\n",
      "[0.]\n",
      "[]\n",
      "[]\n",
      "[0.]\n",
      "[]\n",
      "0.918 -0.0 1.0 0\n",
      "0.251\n"
     ]
    }
   ],
   "source": [
    "import numpy as np\n",
    "import math\n",
    "\n",
    "def plogp(p):\n",
    "    if p < 1e-5:\n",
    "        return 0\n",
    "    else:\n",
    "        return round(p * math.log2(p), 3)\n",
    "\n",
    "def H(p1, p2):\n",
    "    total = p1 + p2\n",
    "    if total < 1e-5:\n",
    "        return 0\n",
    "    entropy = -(plogp(p1 / total) + plogp(p2 / total))\n",
    "    return round(entropy, 3)\n",
    "\n",
    "def avg(items, ps=None):\n",
    "    if ps is None:\n",
    "        return sum(items) / len(items)\n",
    "    return round(sum(item * p for item, p in zip(items, ps)) / sum(ps), 3)\n",
    "\n",
    "\n",
    "# 色泽 青绿：0 乌黑：1 浅白：2\n",
    "# 根蒂 蜷缩：0 稍蜷：1 硬挺：2\n",
    "# 敲声 浊响：0 沉闷：1 清脆：2\n",
    "# 纹理 清晰：0 稍糊：1 模糊：2\n",
    "# 脐部 凹陷：0 稍凹：1 平坦：2\n",
    "# 触感 硬滑：0 软粘：1 \n",
    "\n",
    "features = 6\n",
    "\n",
    "def sim(D_p, D_n, feature):\n",
    "    count_p = np.array([])\n",
    "    count_n = np.array([])\n",
    "    for v in np.arange(3):\n",
    "        \n",
    "        cnt_set = np.array([])\n",
    "        for idx in np.arange(len(D_p)):\n",
    "            if D_p[idx][feature] == v:\n",
    "              \n",
    "                cnt_set = np.append(cnt_set, idx)\n",
    "        print(cnt_set)\n",
    "        count_p = np.append(count_p,len(cnt_set))\n",
    "    for v in np.arange(3):\n",
    "       \n",
    "        cnt_set = np.array([])\n",
    "        for idx in np.arange(len(D_n)):\n",
    "            if D_n[idx][feature] == v:\n",
    "                \n",
    "                cnt_set = np.append(cnt_set, idx)\n",
    "        print(cnt_set)\n",
    "        count_n = np.append(count_n,len(cnt_set))\n",
    "    \n",
    "    print(H(sum(count_p), sum(count_n)), H(count_p[0], count_n[0]), H(count_p[1], count_n[1]), H(count_p[2], count_n[2]))\n",
    "    IG = H(sum(count_p), sum(count_n))-avg((H(count_p[0], count_n[0]), H(count_p[1], count_n[1]), H(count_p[2], count_n[2])),\n",
    "                                           (count_p[0]+count_n[0],count_p[1]+count_n[1],count_p[2]+ count_n[2]))\n",
    "    print(\"%.3f\" % IG)\n",
    "\n",
    "# dataset\n",
    "D_0_0_p =np.array([\n",
    "    [0,0,0,0,0,0],\n",
    "    [1,0,1,0,0,0],\n",
    "    [1,0,0,0,0,0],\n",
    "    [0,0,1,0,0,0],\n",
    "    [2,0,0,0,0,0],\n",
    "    [0,1,0,0,1,1],\n",
    "    [1,1,0,1,1,1],\n",
    "    [1,1,0,0,1,0]\n",
    "])\n",
    "D_0_0_n = np.array([\n",
    "    [1,1,1,1,1,0],\n",
    "    [0,2,2,0,2,1],\n",
    "    [2,2,2,2,2,0],\n",
    "    [2,0,0,2,2,1],\n",
    "    [0,1,0,1,0,0],\n",
    "    [2,1,1,1,0,0],\n",
    "    [1,1,0,0,1,1],\n",
    "    [2,0,0,2,2,0],\n",
    "    [0,0,1,1,1,0]\n",
    "])\n",
    "\n",
    "# for feature in np.arange(features):\n",
    "#     print(\"feature = \"+str(feature)+\":\")\n",
    "#     sim(D_0_0_p,D_0_0_n,feature)\n",
    "# sim(D_0_0_p,D_0_0_n,4)\n",
    "D_1_0_p = np.array([])\n",
    "for idx in [0, 1, 2, 3, 4, 5, 7]:\n",
    "    D_1_0_p = np.append(D_1_0_p, D_0_0_p[idx])\n",
    "D_1_0_p =  D_1_0_p.reshape(7,6)\n",
    "D_1_1_p = [D_0_0_p[6]]\n",
    "\n",
    "# [6.]\n",
    "# []\n",
    "\n",
    "D_1_0_n = np.array([])\n",
    "for idx in [1,6]:\n",
    "    D_1_0_n = np.append(D_1_0_n, D_0_0_n[idx])\n",
    "D_1_0_n = D_1_0_n.reshape(2,6)\n",
    "# [1. 6.]\n",
    "D_1_1_n = np.array([])\n",
    "for idx in [0,4,5,8]:\n",
    "    D_1_1_n = np.append(D_1_1_n, D_0_0_n[idx])\n",
    "D_1_1_n = D_1_1_n.reshape(4,6)\n",
    "# [0. 4. 5. 8.]\n",
    "# [2. 3. 7.]\n",
    "\n",
    "# for feature in np.arange(features):\n",
    "#     print(\"feature = \"+str(feature)+\":\")\n",
    "#     sim(D_1_0_p,D_1_0_n,feature)\n",
    "\n",
    "# [0. 1. 2. 3. 4.]\n",
    "# [5. 6.]\n",
    "# []\n",
    "# []\n",
    "# [1.]\n",
    "# [0.]\n",
    "D_2_0_p = np.array([])\n",
    "for idx in [5,6]:\n",
    "    D_2_0_p = np.append(D_2_0_p, D_1_0_p[idx])\n",
    "D_2_0_p =  D_2_0_p.reshape(2,6)\n",
    "D_2_0_n = [D_1_0_n[1]]\n",
    "\n",
    "for feature in np.arange(features):\n",
    "    print(\"feature = \"+str(feature)+\":\")\n",
    "    sim(D_2_0_p,D_2_0_n,feature)"
   ]
  }
 ],
 "metadata": {
  "kernelspec": {
   "display_name": "base",
   "language": "python",
   "name": "python3"
  },
  "language_info": {
   "codemirror_mode": {
    "name": "ipython",
    "version": 3
   },
   "file_extension": ".py",
   "mimetype": "text/x-python",
   "name": "python",
   "nbconvert_exporter": "python",
   "pygments_lexer": "ipython3",
   "version": "3.9.7"
  },
  "orig_nbformat": 4,
  "vscode": {
   "interpreter": {
    "hash": "88279d2366fe020547cde40dd65aa0e3aa662a6ec1f3ca12d88834876c85e1a6"
   }
  }
 },
 "nbformat": 4,
 "nbformat_minor": 2
}
